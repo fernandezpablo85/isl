{
 "cells": [
  {
   "cell_type": "markdown",
   "metadata": {},
   "source": [
    "# Chapter 3 - Conceptual exercises\n",
    "\n",
    "##### Q: Describe the null hypotheses to which the p-values given in Table 3.4 correspond. Explain what conclusions you can draw based on these p-values. Your explanation should be phrased in terms of sales, TV, radio, and newspaper, rather than in terms of the coefficients of the linear model."
   ]
  },
  {
   "cell_type": "code",
   "execution_count": 2,
   "metadata": {},
   "outputs": [],
   "source": [
    "import numpy as np\n",
    "import pandas as pd\n",
    "import matplotlib.pyplot as plt\n",
    "import seaborn as sns\n",
    "\n",
    "import warnings\n",
    "warnings.filterwarnings('ignore')\n",
    "\n",
    "%matplotlib inline"
   ]
  },
  {
   "cell_type": "markdown",
   "metadata": {},
   "source": [
    "![table34](./figures/table34.png)"
   ]
  },
  {
   "cell_type": "markdown",
   "metadata": {},
   "source": [
    "A: Increasing advertising in TV and radio will have a positive impact on sales. Newspaper doesn't seem to be such a safe bet in the context of the other two."
   ]
  },
  {
   "cell_type": "markdown",
   "metadata": {},
   "source": [
    "##### Q: Carefully explain the differences between the KNN classifier and KNN regression methods."
   ]
  },
  {
   "cell_type": "markdown",
   "metadata": {},
   "source": [
    "A: both methods take K nearest neighbours, given some function of distance. Regression methods average the interesting dependent variable to get an estimation. Classifiers use majority votes to get the class estimation."
   ]
  },
  {
   "cell_type": "markdown",
   "metadata": {},
   "source": [
    "##### Q: Suppose we have a data set with five predictors, X1 = GPA, X2 = IQ, X3 = Gender (1 for Female and 0 for Male), X4 = Interaction between GPA and IQ, and X5 = Interaction between GPA and Gender. The response is starting salary after graduation (in thousands of dollars).\n",
    "\n",
    "##### Suppose we use least squares to fit the model, and get: \n",
    "\n",
    "```\n",
    "βˆ0 = 50, βˆ1 = 20 , βˆ2 = 0.07 , βˆ3 = 35 , βˆ4 = 0.01 , βˆ5 = −10.\n",
    "```\n",
    "\n",
    "##### (a) Which answer is correct, and why?\n",
    "\n",
    "##### i. For a fixed valueof IQ and GPA, males earn more on average than females.\n",
    "##### ii. For a fixed value of IQ and GPA, females earn more on average than males.\n",
    "##### iii. For a fixed valueof IQ and GPA, males earn more on average than females provided that the GPA is high enough.\n",
    "##### iv. For a fixed value of IQ and GPA, females earn more on average than males provided that the GPA is high enough.\n",
    "\n",
    "##### (b) Predict the salary of a female with IQ of 110 and a GPA of 4.0.\n",
    "\n",
    "##### (c) True or false: Since the coefficient for the GPA/IQ interaction term is very small, there is very little evidence of an interaction effect. Justify your answer."
   ]
  },
  {
   "cell_type": "markdown",
   "metadata": {},
   "source": [
    "__(a)__"
   ]
  },
  {
   "cell_type": "code",
   "execution_count": 5,
   "metadata": {},
   "outputs": [],
   "source": [
    "def f_hat(gpa, iq, gender):\n",
    "    return 50 + (20 * gpa) + (0.07 * iq) + (35 * gender) + 0.01 * (gpa * iq) + -10 * (gpa * gender)"
   ]
  },
  {
   "cell_type": "code",
   "execution_count": 7,
   "metadata": {},
   "outputs": [],
   "source": [
    "def _removing_all_non_gender_terms(gender, gpa):\n",
    "    return (35 * gender) - 10 * (gpa * gender)"
   ]
  },
  {
   "cell_type": "code",
   "execution_count": 8,
   "metadata": {},
   "outputs": [],
   "source": [
    "# given that gender can be either 1 (female) or 0 (male)\n",
    "\n",
    "def _female(gpa):\n",
    "    return 35 - 10 * gpa\n",
    "\n",
    "def _male(gpa):\n",
    "    return 0"
   ]
  },
  {
   "cell_type": "markdown",
   "metadata": {},
   "source": [
    "When `_female` == `_male`, that is, when __gpa is 3.5__, gender makes no difference on salary. For lower values of gpa, there's an increase in salary for females. For higher values of gpa there's a decrease in salary for females.\n",
    "\n",
    "The right answer is __iii: For a fixed valueof IQ and GPA, males earn more on average than females provided that the GPA is high enough__"
   ]
  },
  {
   "cell_type": "markdown",
   "metadata": {},
   "source": [
    "__(b)__"
   ]
  },
  {
   "cell_type": "code",
   "execution_count": 14,
   "metadata": {},
   "outputs": [
    {
     "name": "stdout",
     "output_type": "stream",
     "text": [
      "USD 137100\n"
     ]
    }
   ],
   "source": [
    "female = 1\n",
    "salary = f_hat(gpa=4, iq=110, gender=female)\n",
    "print('USD {:.0f}'.format(salary * 1000))"
   ]
  },
  {
   "cell_type": "markdown",
   "metadata": {},
   "source": [
    "__(c)__"
   ]
  },
  {
   "cell_type": "markdown",
   "metadata": {},
   "source": [
    "False, the evidence is given by the p-value, not the coefficient."
   ]
  },
  {
   "cell_type": "markdown",
   "metadata": {},
   "source": [
    "##### Q: I collect a set of data (n = 100 observations) containing a single predictor and a quantitative response. I then fit a linear regression model to the data, as well as a separate cubic regression, i.e. Y = β0 +β1X +β2X2 +β3X3 +ε\n",
    "\n",
    "##### (a) Suppose that the true relationship between X and Y is linear, i.e. Y = β0 + β1X + ε. Consider the training residual sum of squares (RSS) for the linear regression, and also the training RSS for the cubic regression. Would we expect one to be lower than the other, would we expect them to be the same, or is there not enough information to tell? Justify your answer.\n",
    "\n",
    "##### (b) Answer (a) using test rather than training RSS.\n",
    "##### (c) Suppose that the true relationship between X and Y is not linear, but we don’t know how far it is from linear. Consider the training RSS for the linear regression, and also the training RSS for the cubic regression. Would we expect one to be lower than the other, would we expect them to be the same, or is there not enough information to tell? Justify your answer.\n",
    "##### (d) Answer (c) using test rather than training RSS."
   ]
  },
  {
   "cell_type": "markdown",
   "metadata": {},
   "source": [
    "__(a)__\n",
    "\n",
    "Cubic regression should have a lower RSS. The flexibility of the model may also estimate `ε`, overfitting to the training set.\n",
    "\n",
    "__(b)__\n",
    "\n",
    "The cubic regression model may have a higher RSS because overfitting.\n",
    "\n",
    "__(c)__\n",
    "\n",
    "The more flexible model would have a lower training set error.\n",
    "\n",
    "__(d)__\n",
    "\n",
    "There is not enough information to tell. It depends on `Var(ε)` and the non-linearity of real `f`"
   ]
  },
  {
   "cell_type": "markdown",
   "metadata": {},
   "source": [
    "__Q5 Q6 Q7: TODO__"
   ]
  }
 ],
 "metadata": {
  "kernelspec": {
   "display_name": "Python 3",
   "language": "python",
   "name": "python3"
  },
  "language_info": {
   "codemirror_mode": {
    "name": "ipython",
    "version": 3
   },
   "file_extension": ".py",
   "mimetype": "text/x-python",
   "name": "python",
   "nbconvert_exporter": "python",
   "pygments_lexer": "ipython3",
   "version": "3.6.5"
  }
 },
 "nbformat": 4,
 "nbformat_minor": 2
}
